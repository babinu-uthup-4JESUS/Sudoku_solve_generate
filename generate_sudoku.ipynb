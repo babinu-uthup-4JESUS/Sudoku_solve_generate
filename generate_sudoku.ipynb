{
 "cells": [
  {
   "cell_type": "code",
   "execution_count": 3,
   "metadata": {},
   "outputs": [],
   "source": [
    "# The objective here is to generate sudoku puzzles depending upon the level of difficulty specified.b"
   ]
  },
  {
   "cell_type": "code",
   "execution_count": 4,
   "metadata": {},
   "outputs": [
    {
     "name": "stdout",
     "output_type": "stream",
     "text": [
      "importing Jupyter notebook from solve_sudoku.ipynb\n"
     ]
    }
   ],
   "source": [
    "import numpy as np\n",
    "import import_ipynb\n",
    "from solve_sudoku import get_row_col_sub_square_elem, check_if_state_is_correct, solve_sudoku\n",
    "import random"
   ]
  },
  {
   "cell_type": "code",
   "execution_count": 8,
   "metadata": {},
   "outputs": [],
   "source": [
    "# Update the 3 group of sub square elements that are independent of each other in the bigger grid.\n",
    "def update_sub_square_elems(number_grid):\n",
    "    \n",
    "    for index in [0, 3, 6]:\n",
    "        (number_grid[index,index], number_grid[index,index + 1], number_grid[index, index + 2], \n",
    "         number_grid[index + 1,index], number_grid[index + 1,index + 1], number_grid[index + 1,index + 2], \n",
    "         number_grid[index + 2,index], number_grid[index + 2,index + 1], number_grid[index + 2,index + 2]) = np.random.permutation(range(1, 10))\n",
    "        \n"
   ]
  },
  {
   "cell_type": "code",
   "execution_count": 9,
   "metadata": {},
   "outputs": [],
   "source": [
    "# Generate a random 9X9 grid, containing number 1-9 in each row, column and sub square.\n",
    "def generate_number_grid():\n",
    "    \n",
    "    number_grid = np.zeros((9,9))\n",
    "    master_set = set([i for i in range(10)])\n",
    "    update_sub_square_elems(number_grid)\n",
    "    (number_grid, num_stack_iterations) = solve_sudoku(number_grid)\n",
    "    return number_grid"
   ]
  },
  {
   "cell_type": "code",
   "execution_count": 10,
   "metadata": {},
   "outputs": [],
   "source": [
    "def generate_random_indices(num_indices):\n",
    "    random_rows = np.random.randint(0, 9, num_indices)\n",
    "    random_cols = np.random.randint(0, 9, num_indices)    \n",
    "    \n",
    "    random_indices = [(random_rows[i], random_cols[i]) for i in range(len(random_rows))]\n",
    "    return random_indices"
   ]
  },
  {
   "cell_type": "code",
   "execution_count": 11,
   "metadata": {},
   "outputs": [],
   "source": [
    "# Update every position given in the indices to 0.\n",
    "def update_zeros(number_grid, indices):\n",
    "    new_grid = np.copy(number_grid)\n",
    "    for (row, col) in indices:\n",
    "        new_grid[row, col] = 0\n",
    "    return new_grid  "
   ]
  },
  {
   "cell_type": "code",
   "execution_count": 22,
   "metadata": {},
   "outputs": [],
   "source": [
    "# Generate puzzle and ensure that we get the original number grid when we solve the same!\n",
    "def generate_puzzle(num_unknowns):\n",
    "    \n",
    "    number_grid = generate_number_grid()\n",
    "    \n",
    "    while True:\n",
    "        new_grid = update_zeros(number_grid, generate_random_indices(num_unknowns))\n",
    "\n",
    "        (solution, num_stack_iterations) = solve_sudoku(new_grid)\n",
    "        print(\"Number of stack iterations is\", num_stack_iterations)\n",
    "\n",
    "        print(solution)\n",
    "        print(number_grid)\n",
    "\n",
    "        if (solution == number_grid).all():\n",
    "            break \n",
    "    return new_grid"
   ]
  },
  {
   "cell_type": "code",
   "execution_count": 65,
   "metadata": {},
   "outputs": [],
   "source": [
    "def generate_puzzle_given_difficulty_level(difficulty_level='EASY'):\n",
    "    \n",
    "    num_unknowns_list = list()\n",
    "    if difficulty_level == 'EASY':\n",
    "        num_unknowns_list = list([41, 42, 43])\n",
    "    elif difficulty_level == 'MEDIUM':\n",
    "        num_unknowns_list = list([49, 50, 51])\n",
    "    elif difficulty_level == 'HARD':\n",
    "        num_unknowns_list = list([54, 55, 56])        \n",
    "    elif difficulty_level == 'EXPERT':\n",
    "        num_unknowns_list = list([59, 60, 61])\n",
    "    \n",
    "    num_unknowns = num_unknowns_list[np.random.randint(0, len(num_unknowns_list))]\n",
    "    puzzle = generate_puzzle(num_unknowns)\n",
    "    return puzzle"
   ]
  },
  {
   "cell_type": "code",
   "execution_count": 73,
   "metadata": {},
   "outputs": [
    {
     "name": "stdout",
     "output_type": "stream",
     "text": [
      "\n",
      "## Not solved completely with obvious analysis. Digging further ##\n",
      "\n",
      "\n",
      "############# Solved with non obvious analysis ###################\n",
      "\n",
      "\n",
      "####### Solved completely with obvious analysis #################\n",
      "\n",
      "Number of stack iterations is 0\n",
      "[[1. 2. 4. 3. 5. 8. 9. 6. 7.]\n",
      " [9. 5. 6. 4. 1. 7. 2. 3. 8.]\n",
      " [8. 7. 3. 2. 6. 9. 5. 4. 1.]\n",
      " [2. 1. 8. 7. 9. 6. 3. 5. 4.]\n",
      " [4. 3. 9. 8. 2. 5. 7. 1. 6.]\n",
      " [7. 6. 5. 1. 3. 4. 8. 9. 2.]\n",
      " [5. 9. 7. 6. 8. 1. 4. 2. 3.]\n",
      " [3. 8. 1. 5. 4. 2. 6. 7. 9.]\n",
      " [6. 4. 2. 9. 7. 3. 1. 8. 5.]]\n",
      "[[1. 2. 4. 3. 5. 8. 9. 6. 7.]\n",
      " [9. 5. 6. 4. 1. 7. 2. 3. 8.]\n",
      " [8. 7. 3. 2. 6. 9. 5. 4. 1.]\n",
      " [2. 1. 8. 7. 9. 6. 3. 5. 4.]\n",
      " [4. 3. 9. 8. 2. 5. 7. 1. 6.]\n",
      " [7. 6. 5. 1. 3. 4. 8. 9. 2.]\n",
      " [5. 9. 7. 6. 8. 1. 4. 2. 3.]\n",
      " [3. 8. 1. 5. 4. 2. 6. 7. 9.]\n",
      " [6. 4. 2. 9. 7. 3. 1. 8. 5.]]\n"
     ]
    },
    {
     "data": {
      "text/plain": [
       "array([[1., 0., 0., 3., 0., 8., 9., 6., 0.],\n",
       "       [0., 5., 0., 4., 1., 7., 2., 0., 0.],\n",
       "       [8., 7., 0., 0., 0., 9., 5., 0., 0.],\n",
       "       [0., 0., 0., 0., 9., 6., 0., 0., 0.],\n",
       "       [4., 3., 9., 0., 2., 5., 7., 1., 0.],\n",
       "       [0., 6., 0., 1., 0., 4., 8., 9., 2.],\n",
       "       [5., 0., 0., 6., 8., 0., 4., 2., 0.],\n",
       "       [0., 8., 0., 5., 0., 0., 0., 0., 0.],\n",
       "       [0., 4., 2., 9., 0., 3., 0., 8., 5.]])"
      ]
     },
     "execution_count": 73,
     "metadata": {},
     "output_type": "execute_result"
    }
   ],
   "source": [
    "puzzle = generate_puzzle_given_difficulty_level('EXPERT')\n",
    "puzzle"
   ]
  }
 ],
 "metadata": {
  "kernelspec": {
   "display_name": "Python 3",
   "language": "python",
   "name": "python3"
  },
  "language_info": {
   "codemirror_mode": {
    "name": "ipython",
    "version": 3
   },
   "file_extension": ".py",
   "mimetype": "text/x-python",
   "name": "python",
   "nbconvert_exporter": "python",
   "pygments_lexer": "ipython3",
   "version": "3.6.9"
  }
 },
 "nbformat": 4,
 "nbformat_minor": 2
}
